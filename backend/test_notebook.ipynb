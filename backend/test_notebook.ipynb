{
 "cells": [
  {
   "cell_type": "markdown",
   "id": "63650dc7",
   "metadata": {},
   "source": [
    "# Test Tools and Models\n",
    "\n",
    "## Running this notebook\n",
    "\n",
    "To run this in VS Code:\n",
    "1. Open a terminal\n",
    "2. Navigate to `./backend`\n",
    "3. Configure poetry to set up a venv environment by running `poetry config virtualenvs.in-project true`\n",
    "4. Remove any existing poetry venv by running `poetry remove --all`\n",
    "5. Run `poetry install` to install the dependencies in the virtual environment\n",
    "6. In Select Kernel dropdown in the top right corner of VS Code, select `Python Environments` and select the venv environment you created at `backend/.venv/bin/python`\n",
    "7. Run the notebook by clicking on the play button in the top right corner of VS Code or running `jupyter notebook test_notebook.ipynb`"
   ]
  },
  {
   "cell_type": "code",
   "execution_count": null,
   "id": "0fadff54",
   "metadata": {},
   "outputs": [],
   "source": [
    "import sys\n",
    "import os\n",
    "import json\n",
    "import logging\n",
    "\n",
    "# Get the absolute path to the src directory\n",
    "src_path = os.path.abspath('src')\n",
    "if src_path not in sys.path:\n",
    "    sys.path.insert(0, src_path)\n",
    "\n",
    "from dotenv import load_dotenv\n",
    "load_dotenv('src/.env')\n",
    "os.environ['MILVUS_HOST'] = 'localhost'\n",
    "os.environ['OLLAMA_HOST'] = 'localhost'\n",
    "from src.models import get_model, bind_tools, handle_tool_call, handle_streaming_tool_call\n",
    "from src.tools import retrieve_context, multiply\n",
    "from src.langgraph_agent import create_agent_graph, run_agent_graph, run_agent_graph_streaming\n",
    "from src.app import ChatRequest, prompt_templates"
   ]
  },
  {
   "cell_type": "code",
   "execution_count": null,
   "id": "bbb3cbeb",
   "metadata": {},
   "outputs": [],
   "source": [
    "# test_notebook.ipynb (Revised)\n",
    "from langchain.schema import HumanMessage\n",
    "\n",
    "async def test_agent_graph_streaming(user_prompt, agent_graph):\n",
    "\n",
    "    # Run the agent and collect chunks\n",
    "    collected = []\n",
    "    async for chunk in run_agent_graph_streaming(agent_graph, user_prompt):\n",
    "        collected.append(chunk)\n",
    "        print(\"Chunk:\", chunk)  # Print each chunk as it arrives\n",
    "\n",
    "    final_response = \"\".join(collected)\n",
    "    return final_response\n",
    "\n",
    "# Execute the test in Jupyter:\n",
    "assistant_system_prompt = prompt_templates[\"assistant_system_prompt\"]\n",
    "tools = [multiply, retrieve_context]\n",
    "agent_graph = create_agent_graph(tools, assistant_system_prompt, True) # Need to set Agent Graph to True to enable streaming\n",
    "# Test the agent graph with a user prompt\n",
    "user_prompt = \"What is the phone number for DataNinja Support?\"\n",
    "await test_agent_graph_streaming(user_prompt, agent_graph)  "
   ]
  },
  {
   "cell_type": "code",
   "execution_count": null,
   "id": "1715a2fd",
   "metadata": {},
   "outputs": [],
   "source": [
    "graph = agent_graph.get_graph().draw_mermaid()\n",
    "# Display the graph in Jupyter\n",
    "\n",
    "import base64\n",
    "from IPython.display import Image, display\n",
    "\n",
    "def mm(graph):\n",
    "    graphbytes = graph.encode(\"utf8\")\n",
    "    base64_bytes = base64.urlsafe_b64encode(graphbytes)\n",
    "    base64_string = base64_bytes.decode(\"ascii\")\n",
    "    return Image(url=\"https://mermaid.ink/img/\" + base64_string)\n",
    "\n",
    "img = mm(graph)\n",
    "\n",
    "display(img)"
   ]
  },
  {
   "cell_type": "code",
   "execution_count": null,
   "id": "4ea9b016",
   "metadata": {},
   "outputs": [],
   "source": [
    "agent_graph = create_agent_graph(tools, assistant_system_prompt, False)\n",
    "# Test the agent graph with a user prompt\n",
    "response = run_agent_graph(agent_graph, user_prompt)\n",
    "print('\\n\\n\\n')\n",
    "print(response)"
   ]
  }
 ],
 "metadata": {
  "kernelspec": {
   "display_name": ".venv (3.12.6)",
   "language": "python",
   "name": "python3"
  },
  "language_info": {
   "codemirror_mode": {
    "name": "ipython",
    "version": 3
   },
   "file_extension": ".py",
   "mimetype": "text/x-python",
   "name": "python",
   "nbconvert_exporter": "python",
   "pygments_lexer": "ipython3",
   "version": "3.12.6"
  }
 },
 "nbformat": 4,
 "nbformat_minor": 5
}
